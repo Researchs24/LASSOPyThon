{
  "nbformat": 4,
  "nbformat_minor": 0,
  "metadata": {
    "colab": {
      "provenance": [],
      "toc_visible": true
    },
    "kernelspec": {
      "name": "python3",
      "display_name": "Python 3"
    },
    "language_info": {
      "name": "python"
    }
  },
  "cells": [
    {
      "cell_type": "markdown",
      "source": [
        "# Simulation of LPNN in LASSO problem\n",
        "\n",
        "We are concerned about the **LASSO Constrained Problem** that may be expressed as follows:\n",
        "$$\\underset{x}{\\;\\min } \\;{\\left\\|r-\\phi x\\right\\|}_2^2 \\;, \\textrm{s.t.} {\\left\\|x\\right\\|}_1  \\le \\eta$$\n",
        "In this simulation, we try to investigate the LPNN approach (Lagrange Programming Neural Network) on a singal processing area. Let's formulate the problem in a such way it make it clearer.\n",
        "\n",
        "# Problem foundation\n",
        "\n",
        "In compressive sampling, we receive a noisy observation $r=\\phi \\;x+\\xi \\in  ℝ^m$ where\n",
        "* $ϕ\\in ℝ^{m×n}$ is the measurement matrix, with $m < n$\n",
        "* $x \\in ℝ^{n}$ is the original signal\n",
        "* $\\xi \\in ℝ^m$ is the noise vector\n",
        "\n",
        "Recovering the unknown original vector $x$ is considering the LASSO problem\n",
        "$$\\underset{x}{\\;\\min } \\;{\\left\\|r-\\phi x\\right\\|}_2^2 \\;, \\textrm{s.t.} {\\left\\|x\\right\\|}_1  \\le \\eta$$\n",
        "In our study we readjust the previous formulation as follows\n",
        "$$\\underset{x}{\\;\\min } \\;{\\left\\|r-\\phi x\\right\\|}_2^2 \\;, \\textrm{s.t.} \\left\\|x\\right\\|_{1,k}  \\le \\eta$$\n",
        "where ${\\left\\| x\\right\\|}_{1,k} =\\sum_{i=1}^n {\\left|x_i \\right|}_{1,k}$ and ${\\left|x_i \\right|}_{1,k} =\\frac{1}{k}\\left\\lbrack \\ln \\left(1+e^{-{\\textrm{kx}}_i  } \\right)+\\ln \\left(1+e^{{\\textrm{kx}}_i } \\right)\\right\\rbrack$\n",
        "\n",
        "# Experiments\n",
        "\n",
        "In this part, we generate a compressive sampling vector $x$ having $n$ components with $N_z$ nonzeros ones. We derive from it a corresponding observation $r$ by adding some noise $ξ$ according to Gaussian distribution. We try to figure out the original signal $x$ from that noisy observation $r$. And hence we could evaluate the performance of the recovering method with the MSE. The details follow Section 5 of [1] description. And this can be summarized as follows:\n",
        "* $n=512$ with $N_z= 15, 20, 25$ and $n=4096$ with $N_z= 75, 100, 125$\n",
        "* Nonzero components' values are $\\pm1$\n",
        "* Random $\\pm1$ matrix is used as measurement matrix $ϕ$. Each column must be normalized.\n",
        "* The noise level are $\\sigma^2 =0\\ldotp {02}^2 ,0\\ldotp {01}^2 ,0\\ldotp {001}^2$\n",
        "* Each setting is simulated 100 times and the results are then reported.\n"
      ],
      "metadata": {
        "id": "EDwVvuktnWId"
      }
    },
    {
      "cell_type": "markdown",
      "source": [
        "# Code"
      ],
      "metadata": {
        "id": "Vm1pHqc7M1cP"
      }
    },
    {
      "cell_type": "markdown",
      "source": [
        "## Installing missing packages\n",
        "Here some missing packages from the initial envirement"
      ],
      "metadata": {
        "id": "XlgVk1jOM8OH"
      }
    },
    {
      "cell_type": "code",
      "source": [
        "pip install numdifftools\n",
        "pip install gekko"
      ],
      "metadata": {
        "colab": {
          "base_uri": "https://localhost:8080/"
        },
        "id": "kWQrN77gMKSc",
        "outputId": "c77a4b4f-44fe-4bb5-dbb5-d0178dd803dd"
      },
      "execution_count": null,
      "outputs": [
        {
          "output_type": "stream",
          "name": "stdout",
          "text": [
            "Collecting numdifftools\n",
            "  Downloading numdifftools-0.9.41-py2.py3-none-any.whl (100 kB)\n",
            "\u001b[?25l     \u001b[90m━━━━━━━━━━━━━━━━━━━━━━━━━━━━━━━━━━━━━━━━\u001b[0m \u001b[32m0.0/100.2 kB\u001b[0m \u001b[31m?\u001b[0m eta \u001b[36m-:--:--\u001b[0m\r\u001b[2K     \u001b[91m━━━━━━━━━━━━━━━━━━━━━━━━━━━━━━━━━━━━\u001b[0m\u001b[91m╸\u001b[0m\u001b[90m━━━\u001b[0m \u001b[32m92.2/100.2 kB\u001b[0m \u001b[31m3.1 MB/s\u001b[0m eta \u001b[36m0:00:01\u001b[0m\r\u001b[2K     \u001b[90m━━━━━━━━━━━━━━━━━━━━━━━━━━━━━━━━━━━━━━━━\u001b[0m \u001b[32m100.2/100.2 kB\u001b[0m \u001b[31m2.5 MB/s\u001b[0m eta \u001b[36m0:00:00\u001b[0m\n",
            "\u001b[?25hRequirement already satisfied: numpy>=1.9 in /usr/local/lib/python3.10/dist-packages (from numdifftools) (1.23.5)\n",
            "Requirement already satisfied: scipy>=0.8 in /usr/local/lib/python3.10/dist-packages (from numdifftools) (1.11.3)\n",
            "Installing collected packages: numdifftools\n",
            "Successfully installed numdifftools-0.9.41\n"
          ]
        }
      ]
    },
    {
      "cell_type": "code",
      "source": [
        "import numpy as np\n",
        "import numdifftools as nd\n",
        "from scipy.integrate import odeint, solve_ivp\n",
        "from gekko import GEKKO\n",
        "import matplotlib.pyplot as plt\n",
        "from scipy.integrate import odeint\n",
        "import time\n",
        "from sklearn.metrics import mean_squared_error\n",
        "from sklearn.metrics import zero_one_loss"
      ],
      "metadata": {
        "id": "NLjVYX_Ovy70"
      },
      "execution_count": null,
      "outputs": []
    }
  ]
}